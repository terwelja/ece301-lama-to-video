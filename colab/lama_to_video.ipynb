{
  "cells": [
    {
      "cell_type": "markdown",
      "source": [
        "# AUTOMATIC GIF OBJECT REMOVAL\n",
        "Team: Abisha Fenn, Jackson Terwelp, Cassidy Petrykowski, Hunter Jensen, Kyle Koesters\n",
        "\n",
        "Known issues: \n",
        "Colab will not process large GIFs through TRACER, \n",
        "because Google limits the amount of GPU power you can use on the free version of Colab. If you have the paid version, you will likely be okay."
      ],
      "metadata": {
        "id": "3wRig-f9Swqr"
      }
    },
    {
      "cell_type": "code",
      "execution_count": null,
      "metadata": {
        "id": "ptJ5V5aGhdud"
      },
      "outputs": [],
      "source": [
        "#@title Setup cell\n",
        "% cd /content/ \n",
        "!rm -r ece301-lama-to-video\n",
        "\n",
        "print('\\n> Clone repo')\n",
        "!git clone https://github.com/terwelja/ece301-lama-to-video\n",
        "\n",
        "print('\\n> Install dependencies')\n",
        "!pip install -r ece301-lama-to-video/lama/requirements.txt --quiet\n",
        "!pip install wget --quiet\n",
        "\n",
        "print('\\n> Download the big-lama model')\n",
        "% cd /content/ece301-lama-to-video/lama/\n",
        "!curl -L $(yadisk-direct https://disk.yandex.ru/d/ouP6l8VJ0HpMZg) -o big-lama.zip\n",
        "!unzip big-lama.zip\n",
        "\n",
        "% cd /content/\n",
        "print('\\n> Fix opencv and torch')\n",
        "!pip uninstall opencv-python-headless -y --quiet\n",
        "!pip install opencv-python-headless==4.1.2.30 --quiet\n",
        "!pip install torchtext==0.9.0 --quiet\n",
        "!pip install torchvision==0.9.0 --quiet\n",
        "\n",
        "print('\\n> Init gif translation code')\n",
        "import base64, os\n",
        "from shutil import copyfile\n",
        "import shutil\n",
        "from PIL import Image, ImageSequence\n",
        "import glob"
      ]
    },
    {
      "cell_type": "markdown",
      "source": [
        "# Upload your GIF here: (MAKE SURE TO RUN)\n",
        "Have this cell expanded so that you can see the file upload button"
      ],
      "metadata": {
        "id": "5W_-9_Smb1MM"
      }
    },
    {
      "cell_type": "code",
      "source": [
        "% cd /content/\n",
        "print('\\n> USER INPUT: Import gif')\n",
        "from google.colab import files\n",
        "files = files.upload()\n",
        "fname = list(files.keys())[0]\n",
        "\n",
        "shutil.rmtree('./gif', ignore_errors=True)\n",
        "! mkdir gif\n",
        "copyfile(fname, f'./gif/{fname}')\n",
        "os.rename(fname, 'input.gif')\n",
        "\n",
        "% cd gif\n",
        "\n",
        "print('\\n> Converting gif into png sequence...')\n",
        "if '.gif' in fname:\n",
        "  #Thanks Hunter\n",
        "  im = Image.open(fname)\n",
        "  frame_duration = im.info['duration']\n",
        "\n",
        "  index = 1\n",
        "  for frame in ImageSequence.Iterator(im):\n",
        "      frame.save(\"frame%d.png\" % index)\n",
        "      index += 1\n",
        "  os.remove(fname)\n",
        "\n",
        "else:\n",
        "  print(f'Error: unknown suffix .{fname.split(\".\")[-1]} use [.gif]')\n",
        "\n",
        "print('\\n> ...DONE CREATING PNG SEQUENCE...')"
      ],
      "metadata": {
        "colab": {
          "resources": {
            "http://localhost:8080/nbextensions/google.colab/files.js": {
              "data": "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",
              "ok": true,
              "headers": [
                [
                  "content-type",
                  "application/javascript"
                ]
              ],
              "status": 200,
              "status_text": ""
            }
          },
          "base_uri": "https://localhost:8080/",
          "height": 212
        },
        "id": "aFKDqRDLbxa9",
        "outputId": "2d8aa9d5-db2c-4ef4-8f20-2ac320710397"
      },
      "execution_count": 38,
      "outputs": [
        {
          "output_type": "stream",
          "name": "stdout",
          "text": [
            "/content\n",
            "\n",
            "> USER INPUT: Import gif\n"
          ]
        },
        {
          "output_type": "display_data",
          "data": {
            "text/plain": [
              "<IPython.core.display.HTML object>"
            ],
            "text/html": [
              "\n",
              "     <input type=\"file\" id=\"files-fb37d852-c4d1-4415-a452-b7b9e6c261de\" name=\"files[]\" multiple disabled\n",
              "        style=\"border:none\" />\n",
              "     <output id=\"result-fb37d852-c4d1-4415-a452-b7b9e6c261de\">\n",
              "      Upload widget is only available when the cell has been executed in the\n",
              "      current browser session. Please rerun this cell to enable.\n",
              "      </output>\n",
              "      <script src=\"/nbextensions/google.colab/files.js\"></script> "
            ]
          },
          "metadata": {}
        },
        {
          "output_type": "stream",
          "name": "stdout",
          "text": [
            "Saving tornadogif2.gif to tornadogif2.gif\n",
            "/content/gif\n",
            "\n",
            "> Converting gif into png sequence...\n",
            "\n",
            "> ...DONE CREATING PNG SEQUENCE...\n"
          ]
        }
      ]
    },
    {
      "cell_type": "markdown",
      "metadata": {
        "id": "sB8ZfPgJxBhf"
      },
      "source": [
        "# Disappear\n",
        "Just hit run after uploading the gif above.\n",
        "Check /content/output.gif and /content/output_mask.gif for the output gifs."
      ]
    },
    {
      "cell_type": "code",
      "execution_count": 39,
      "metadata": {
        "id": "5ntclSrJw8e_",
        "colab": {
          "base_uri": "https://localhost:8080/"
        },
        "outputId": "557364f3-e6e0-47c8-8ae0-e9ff61a6812c"
      },
      "outputs": [
        {
          "output_type": "stream",
          "name": "stdout",
          "text": [
            "\n",
            "> Copying pngs to TRACER...\n",
            "\n",
            "> Running TRACER...\n",
            "/content/ece301-lama-to-video/TRACER\n",
            "<---- Training Params ---->\n",
            "Namespace(RFB_aggregated_channel=[32, 64, 128], action='inference', arch='7', aug_ver=2, batch_size=32, channels=[24, 40, 112, 320], clipping=2, criterion='API', data_path='data/', dataset='custom_dataset/', denoise=0.93, epochs=100, exp_num=0, frequency_radius=16, gamma=0.1, img_size=640, lr=5e-05, lr_factor=0.1, model_path='results/', multi_gpu=True, num_workers=4, optimizer='Adam', patience=5, save_map=True, scheduler='Reduce', seed=42, weight_decay=0.0001)\n",
            "<----- Initializing inference mode ----->\n",
            "Loaded pretrained weights for efficientnet-b7\n",
            "###### pre-trained Model restored #####\n",
            "test length : 40\n",
            "100% 2/2 [00:11<00:00,  5.60s/it]\n",
            "time: 11.206s\n",
            "\n",
            "> Creating and storing mask gif (/content/output.gif)...\n",
            "/content/ece301-lama-to-video/TRACER/pred_map/custom_dataset\n",
            "\n",
            "> Copying TRACER output and input images to LaMa\n",
            "/content/ece301-lama-to-video/TRACER/pred_map/custom_dataset\n",
            "/content/ece301-lama-to-video/lama\n",
            "\n",
            "> Running LaMa...\n",
            "100% 40/40 [00:10<00:00,  4.00it/s]\n",
            "\n",
            "> Creating finished gif...\n",
            "\n",
            "> ...FINISHED...\n",
            "\n",
            "> See output /content/output.gif\n"
          ]
        }
      ],
      "source": [
        "if os.path.isfile('output.gif'):\n",
        "    os.remove('output.gif')\n",
        "    os.remov('output_mask.gif')\n",
        "    print(\"Old outputs removed successfully...\")\n",
        " \n",
        "else:\n",
        "    print(\"No old outputs exist...\")\n",
        "\n",
        "print('\\n> Copying pngs to TRACER...')\n",
        "shutil.rmtree('/content/ece301-lama-to-video/TRACER/data/custom_dataset', ignore_errors=True)\n",
        "! mkdir /content/ece301-lama-to-video/TRACER/data/custom_dataset\n",
        "! cp -RT /content/gif/ /content/ece301-lama-to-video/TRACER/data/custom_dataset/\n",
        "\n",
        "print('\\n> Running TRACER...')\n",
        "% cd /content/ece301-lama-to-video/TRACER \n",
        "shutil.rmtree('/content/ece301-lama-to-video/TRACER/pred_map/custom_dataset', ignore_errors=True)\n",
        "! mkdir /content/ece301-lama-to-video/TRACER/pred_map/custom_dataset\n",
        "! python main.py inference --dataset custom_dataset/ --arch 7 --img_size 640 --save_map True\n",
        "\n",
        "print('\\n> Creating and storing mask gif (/content/output.gif)...')\n",
        "\n",
        "# filepaths\n",
        "fp_in = \"/content/ece301-lama-to-video/TRACER/pred_map/custom_dataset/*.png\"\n",
        "fp_out = \"/content/ece301-lama-to-video/TRACER/pred_map/custom_dataset/image.gif\"\n",
        "\n",
        "# Ty Kyle\n",
        "sort = sorted(sorted(glob.glob(fp_in)),key = len)\n",
        "imgs = (Image.open(f) for f in sort)\n",
        "img = next(imgs)  # extract first image from iterator\n",
        "img.save(fp=fp_out, format='GIF', append_images=imgs,\n",
        "         save_all=True, duration=frame_duration, loop=0)\n",
        "\n",
        "#Rename output\n",
        "% cd /content/ece301-lama-to-video/TRACER/pred_map/custom_dataset\n",
        "files = glob.glob('/content/ece301-lama-to-video/TRACER/pred_map/custom_dataset/*')\n",
        "\n",
        "for f in files:\n",
        "    ftitle, fext = os.path.splitext(f)\n",
        "    os.rename(f, ftitle + '_mask' + fext)\n",
        "\n",
        "shutil.copyfile('/content/ece301-lama-to-video/TRACER/pred_map/custom_dataset/image_mask.gif','/content/output_mask.gif')\n",
        "\n",
        "print('\\n> Copying TRACER output and input images to LaMa')\n",
        "shutil.rmtree('/content/ece301-lama-to-video/lama/data_for_prediction', ignore_errors=True)\n",
        "% cd /content/ece301-lama-to-video/TRACER/pred_map/custom_dataset\n",
        "os.remove('image_mask.gif')\n",
        "% cd /content/ece301-lama-to-video/lama\n",
        "! mkdir data_for_prediction\n",
        "\n",
        "! cp -RT /content/ece301-lama-to-video/TRACER/pred_map/custom_dataset/ /content/ece301-lama-to-video/lama/data_for_prediction/\n",
        "! cp -RT /content/ece301-lama-to-video/TRACER/data/custom_dataset/ /content/ece301-lama-to-video/lama/data_for_prediction/\n",
        "\n",
        "print('\\n> Running LaMa...')\n",
        "shutil.rmtree('/content/output', ignore_errors=True)\n",
        "!PYTHONPATH=. TORCH_HOME=$(pwd) python3 bin/predict.py model.path=$(pwd)/big-lama indir=$(pwd)/data_for_prediction outdir=/content/output  dataset.img_suffix=.png > /dev/null\n",
        "\n",
        "#Rename files\n",
        "files = glob.glob('/content/output/*')\n",
        "for f in files:\n",
        "    os.rename(f, f.replace('_mask', ''))\n",
        "\n",
        "print('\\n> Creating finished gif...')\n",
        "\n",
        "# filepaths\n",
        "fp_in = \"/content/output/*.png\"\n",
        "fp_out = \"/content/output/output.gif\"\n",
        "\n",
        "sort = sorted(sorted(glob.glob(fp_in)),key = len)\n",
        "imgs = (Image.open(f) for f in sort)\n",
        "img = next(imgs)  # extract first image from iterator\n",
        "img.save(fp=fp_out, format='GIF', append_images=imgs,\n",
        "         save_all=True, duration=frame_duration, loop=0)\n",
        "\n",
        "shutil.copyfile('/content/output/output.gif','/content/output.gif')\n",
        "\n",
        "print('\\n> ...FINISHED...')\n",
        "print('\\n> See output /content/output.gif')\n",
        "\n",
        "from IPython.display import HTML\n",
        "\n",
        "HTML('<img src=\"../output_mask.gif\">')\n",
        "HTML('<img src=\"../output.gif\">')\n"
      ]
    }
  ],
  "metadata": {
    "accelerator": "GPU",
    "colab": {
      "collapsed_sections": [],
      "name": "lama-to-video.ipynb",
      "provenance": []
    },
    "kernelspec": {
      "display_name": "Python 3",
      "name": "python3"
    },
    "language_info": {
      "name": "python"
    }
  },
  "nbformat": 4,
  "nbformat_minor": 0
}